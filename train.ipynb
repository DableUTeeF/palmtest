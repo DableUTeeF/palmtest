{
 "cells": [
  {
   "cell_type": "code",
   "execution_count": 3,
   "metadata": {
    "collapsed": true
   },
   "outputs": [],
   "source": [
    ""
   ]
  },
  {
   "cell_type": "code",
   "execution_count": 2,
   "metadata": {},
   "outputs": [
    {
     "name": "stderr",
     "output_type": "stream",
     "text": [
      "Using TensorFlow backend.\n"
     ]
    }
   ],
   "source": [
    "from __future__ import print_function\n",
    "import os\n",
    "\n",
    "os.environ[\"CUDA_VISIBLE_DEVICES\"] = \"0\"\n",
    "os.environ[\"KERAS_BACKEND\"] = \"tensorflow\"\n",
    "from model import *\n",
    "from keras.optimizers import sgd\n",
    "from keras.callbacks import ModelCheckpoint, LearningRateScheduler, TensorBoard\n",
    "from keras.preprocessing.image import ImageDataGenerator\n",
    "from keras.datasets.cifar10 import load_data\n",
    "import keras\n",
    "import json\n",
    "import numpy as np\n",
    "\n",
    "\n",
    "def lr_reduce(epoch):\n",
    "    if epoch < 100:\n",
    "        return 1e-2\n",
    "    elif 100 <= epoch < 175:\n",
    "        return 1e-3\n",
    "    else:\n",
    "        return 1e-4\n",
    "models = ResC()\n",
    "try_no = 'ResCBoost'"
   ]
  },
  {
   "cell_type": "code",
   "execution_count": 4,
   "metadata": {},
   "outputs": [],
   "source": [
    "count = 0\n",
    "models.compile(optimizer=sgd(lr=0.01, momentum=0.9, nesterov=1),\n",
    "              loss='categorical_crossentropy',\n",
    "              metrics=['acc'])\n",
    "reduce_lr = LearningRateScheduler(lr_reduce, verbose=1)\n",
    "checkpoint = ModelCheckpoint('weights/try-{}.h5'.format(try_no),\n",
    "                             monitor='val_acc',\n",
    "                             mode='max',\n",
    "                             save_best_only=1,\n",
    "                             save_weights_only=1)\n",
    "tensorboard = TensorBoard(log_dir=os.path.expanduser('log/') + 'yolo' + '_',\n",
    "                          histogram_freq=0,\n",
    "                          # write_batch_performance=True,\n",
    "                          write_graph=True,\n",
    "                          write_images=False)\n",
    "(x_train, y_t), (x_test, y_te) = load_data()\n",
    "y_train = keras.utils.to_categorical(y_t, 10)\n",
    "y_test = keras.utils.to_categorical(y_te, 10)\n",
    "x_train = x_train.astype('float32') / 255.\n",
    "x_test = x_test.astype('float32') / 255.\n",
    "x_train_mean = np.mean(x_train, axis=0)\n",
    "x_train -= x_train_mean\n",
    "x_test -= x_train_mean\n"
   ]
  },
  {
   "cell_type": "code",
   "execution_count": 5,
   "metadata": {},
   "outputs": [],
   "source": [
    "model = models"
   ]
  },
  {
   "cell_type": "code",
   "execution_count": 6,
   "metadata": {},
   "outputs": [],
   "source": [
    "w = np.zeros(50000) + 1./50000\n",
    "fs = {'acc': [], 'val_acc': [], 'loss': [], 'val_loss': []}\n",
    "terrors = np.zeros(50000)\n"
   ]
  },
  {
   "cell_type": "code",
   "execution_count": null,
   "metadata": {},
   "outputs": [
    {
     "name": "stdout",
     "output_type": "stream",
     "text": [
      "\nEpoch 00001: LearningRateScheduler reducing learning rate to 0.01.\nEpoch 1/1\n"
     ]
    },
    {
     "name": "stdout",
     "output_type": "stream",
     "text": [
      "\r128/128 [==============================] - 3s 21ms/step - loss: 5.2694e-05 - acc: 0.1172\n"
     ]
    },
    {
     "name": "stdout",
     "output_type": "stream",
     "text": [
      "\nEpoch 00001: LearningRateScheduler reducing learning rate to 0.01.\nEpoch 1/1\n"
     ]
    },
    {
     "name": "stdout",
     "output_type": "stream",
     "text": [
      "\r128/128 [==============================] - 1s 7ms/step - loss: 5.2693e-05 - acc: 0.1172\n"
     ]
    },
    {
     "name": "stdout",
     "output_type": "stream",
     "text": [
      "\nEpoch 00001: LearningRateScheduler reducing learning rate to 0.01.\nEpoch 1/1\n"
     ]
    },
    {
     "name": "stdout",
     "output_type": "stream",
     "text": [
      "\r128/128 [==============================] - 1s 7ms/step - loss: 5.2693e-05 - acc: 0.1172\n"
     ]
    },
    {
     "name": "stdout",
     "output_type": "stream",
     "text": [
      "\nEpoch 00001: LearningRateScheduler reducing learning rate to 0.01.\nEpoch 1/1\n"
     ]
    },
    {
     "name": "stdout",
     "output_type": "stream",
     "text": [
      "\r128/128 [==============================] - 1s 7ms/step - loss: 5.2693e-05 - acc: 0.1172\n"
     ]
    },
    {
     "name": "stdout",
     "output_type": "stream",
     "text": [
      "\nEpoch 00001: LearningRateScheduler reducing learning rate to 0.01.\nEpoch 1/1\n"
     ]
    },
    {
     "name": "stdout",
     "output_type": "stream",
     "text": [
      "\r128/128 [==============================] - 1s 7ms/step - loss: 5.2692e-05 - acc: 0.1172\n"
     ]
    },
    {
     "name": "stdout",
     "output_type": "stream",
     "text": [
      "\nEpoch 00001: LearningRateScheduler reducing learning rate to 0.01.\nEpoch 1/1\n"
     ]
    },
    {
     "name": "stdout",
     "output_type": "stream",
     "text": [
      "\r128/128 [==============================] - 1s 7ms/step - loss: 5.2692e-05 - acc: 0.1172\n"
     ]
    },
    {
     "name": "stdout",
     "output_type": "stream",
     "text": [
      "\nEpoch 00001: LearningRateScheduler reducing learning rate to 0.01.\nEpoch 1/1\n"
     ]
    },
    {
     "name": "stdout",
     "output_type": "stream",
     "text": [
      "\r128/128 [==============================] - 1s 7ms/step - loss: 5.2691e-05 - acc: 0.1172\n"
     ]
    },
    {
     "name": "stdout",
     "output_type": "stream",
     "text": [
      "\nEpoch 00001: LearningRateScheduler reducing learning rate to 0.01.\nEpoch 1/1\n"
     ]
    },
    {
     "name": "stdout",
     "output_type": "stream",
     "text": [
      "\r128/128 [==============================] - 1s 7ms/step - loss: 5.2690e-05 - acc: 0.1172\n"
     ]
    },
    {
     "name": "stdout",
     "output_type": "stream",
     "text": [
      "\nEpoch 00001: LearningRateScheduler reducing learning rate to 0.01.\nEpoch 1/1\n"
     ]
    },
    {
     "name": "stdout",
     "output_type": "stream",
     "text": [
      "\r128/128 [==============================] - 1s 7ms/step - loss: 5.2690e-05 - acc: 0.1172\n"
     ]
    },
    {
     "name": "stdout",
     "output_type": "stream",
     "text": [
      "\nEpoch 00001: LearningRateScheduler reducing learning rate to 0.01.\nEpoch 1/1\n"
     ]
    },
    {
     "name": "stdout",
     "output_type": "stream",
     "text": [
      "\r128/128 [==============================] - 1s 7ms/step - loss: 5.2689e-05 - acc: 0.1172\n"
     ]
    },
    {
     "name": "stdout",
     "output_type": "stream",
     "text": [
      "\nEpoch 00001: LearningRateScheduler reducing learning rate to 0.01.\nEpoch 1/1\n"
     ]
    }
   ],
   "source": [
    "f = model.fit(x_train[:128], y_train[:128],\n",
    "              epochs=1,\n",
    "              batch_size=128,\n",
    "              # validation_data=[x_test, y_test],\n",
    "              callbacks=[reduce_lr],\n",
    "              sample_weight=w[:128])\n"
   ]
  }
 ],
 "metadata": {
  "kernelspec": {
   "display_name": "Python 2",
   "language": "python",
   "name": "python2"
  },
  "language_info": {
   "codemirror_mode": {
    "name": "ipython",
    "version": 2
   },
   "file_extension": ".py",
   "mimetype": "text/x-python",
   "name": "python",
   "nbconvert_exporter": "python",
   "pygments_lexer": "ipython2",
   "version": "2.7.6"
  }
 },
 "nbformat": 4,
 "nbformat_minor": 0
}
